{
  "nbformat": 4,
  "nbformat_minor": 0,
  "metadata": {
    "colab": {
      "provenance": []
    },
    "kernelspec": {
      "name": "python3",
      "display_name": "Python 3"
    },
    "language_info": {
      "name": "python"
    }
  },
  "cells": [
    {
      "cell_type": "code",
      "source": [
        "# Instalar SDK java 8\n",
        "\n",
        "!apt-get install openjdk-8-jdk-headless -qq > /dev/null\n",
        "\n",
        "# Descargar Spark\n",
        "\n",
        "#!wget -q  https://downloads.apache.org/spark/spark-3.4.4/spark-3.4.4-bin-hadoop3.tgz\n",
        "\n",
        "# Descomprimir la version de Spark\n",
        "\n",
        "!tar xf spark-3.4.4-bin-hadoop3.tgz\n",
        "\n",
        "# Establecer las variables de entorno\n",
        "\n",
        "import os\n",
        "\n",
        "os.environ[\"JAVA_HOME\"] = \"/usr/lib/jvm/java-8-openjdk-amd64\"\n",
        "os.environ[\"SPARK_HOME\"] = \"/content/spark-3.4.4-bin-hadoop3\""
      ],
      "metadata": {
        "id": "BF8AL8PrcNOO"
      },
      "execution_count": 11,
      "outputs": []
    },
    {
      "cell_type": "code",
      "source": [
        "from google.colab import userdata\n",
        "account_key = userdata.get('ACCOUNT_KEY')"
      ],
      "metadata": {
        "id": "SY9NMXg9fCpN"
      },
      "execution_count": 12,
      "outputs": []
    },
    {
      "cell_type": "code",
      "source": [
        "# Crear la sesión de Spark\n",
        "\n",
        "import findspark\n",
        "\n",
        "findspark.init()\n",
        "\n",
        "from pyspark.sql import SparkSession\n",
        "\n",
        "cuenta_almacenamiento = \"jtalavera\"\n",
        "\n",
        "spark = (SparkSession.builder\n",
        "         .config(\"spark.jars.packages\", \"org.apache.hadoop:hadoop-azure:3.3.6,com.microsoft.azure:azure-storage:8.6.6\")\n",
        "         .config(f\"spark.hadoop.fs.azure.account.key.jtalavera.blob.core.windows.net\", account_key)\n",
        "         .config(\"spark.hadoop.fs.wasbs.impl\", \"org.apache.hadoop.fs.azure.NativeAzureFileSystem\")\n",
        "         .config(\"spark.hadoop.fs.azure\", \"org.apache.hadoop.fs.azure.NativeAzureFileSystem\")\n",
        "         .getOrCreate())"
      ],
      "metadata": {
        "id": "ajUIYp3-dXVZ"
      },
      "execution_count": 13,
      "outputs": []
    },
    {
      "cell_type": "code",
      "execution_count": 15,
      "metadata": {
        "id": "yc8cVztxvw6O"
      },
      "outputs": [],
      "source": [
        "from pyspark.sql.types import StructType, StructField, StringType, IntegerType, DoubleType, DateType\n",
        "\n",
        "# Definir el esquema\n",
        "schema = StructType([\n",
        "    StructField(\"check_in\", DateType(), True),\n",
        "    StructField(\"check_out\", DateType(), True),\n",
        "    StructField(\"los\", IntegerType(), True),\n",
        "    StructField(\"count\", IntegerType(), True),\n",
        "    StructField(\"rate_price\", DoubleType(), True),\n",
        "    StructField(\"entity_name\", StringType(), True),\n",
        "    StructField(\"entity_id\", IntegerType(), True),\n",
        "    StructField(\"entity_latitude\", DoubleType(), True),\n",
        "    StructField(\"entity_longitude\", DoubleType(), True),\n",
        "    StructField(\"entity_city\", StringType(), True),\n",
        "    StructField(\"entity_type\", StringType(), True),\n",
        "    StructField(\"entity_stars\", IntegerType(), True),\n",
        "    StructField(\"rate_name\", StringType(), True),\n",
        "    StructField(\"rate_id\", IntegerType(), True),\n",
        "    StructField(\"adults\", IntegerType(), True),\n",
        "    StructField(\"children\", IntegerType(), True),\n",
        "    StructField(\"meal_plan\", StringType(), True),\n",
        "    StructField(\"currency\", StringType(), True)\n",
        "])"
      ]
    },
    {
      "cell_type": "code",
      "source": [
        "archivo = \"/2023-07-02/2023-07-03.parquet\"\n",
        "contenedor = \"storage\"\n",
        "\n",
        "df = spark.read.parquet(f\"wasbs://{contenedor}@{cuenta_almacenamiento}.blob.core.windows.net{archivo}\", header=True, schema=schema)\n",
        "df.show()"
      ],
      "metadata": {
        "colab": {
          "base_uri": "https://localhost:8080/"
        },
        "id": "hz4to5Q5LMce",
        "outputId": "ec3295d0-1928-4920-edea-c9e1d62d7683"
      },
      "execution_count": 16,
      "outputs": [
        {
          "output_type": "stream",
          "name": "stdout",
          "text": [
            "+----------+----------+---+-----+----------+--------------------+---------+---------------+------------------+-----------+-----------+------------+----------------+-------+------+--------+------------+--------+\n",
            "|  check_in| check_out|los|count|rate_price|         entity_name|entity_id|entity_latitude|  entity_longitude|entity_city|entity_type|entity_stars|       rate_name|rate_id|adults|children|   meal_plan|currency|\n",
            "+----------+----------+---+-----+----------+--------------------+---------+---------------+------------------+-----------+-----------+------------+----------------+-------+------+--------+------------+--------+\n",
            "|2023-07-03|2023-07-17| 14|    1|      0.98|House from Valenc...|  4160012|          44.52|              7.87|   Valencia|      house|           2|Rate Plan 731559|2662305|     2|       0|allinclusive|     EUR|\n",
            "|2023-07-03|2023-07-04|  1|    1|      0.56|Hotel_room from S...|  3496726|           40.8|              6.23|  Salamanca| hotel_room|           4|Rate Plan 245096|3267034|     2|       2|    roomonly|     EUR|\n",
            "|2023-07-03|2023-07-17| 14|    1|       0.7|House from Segovi...|  7074056|          38.24|              5.76|    Segovia|      house|           0|Rate Plan 414235|8363483|     1|       0|    roomonly|     EUR|\n",
            "|2023-07-03|2023-07-16| 13|    1|       0.8|Hotel_room from V...|  2527316|           37.3|6.5600000000000005|       Vigo| hotel_room|           2|Rate Plan 846131|3577014|     4|       2|   fullboard|     EUR|\n",
            "|2023-07-03|2023-07-05|  2|    1|      0.39|House_room from V...|  4843093|          42.54|              5.38|       Vigo| house_room|           2|Rate Plan 953794|4075968|     2|       0|   fullboard|     EUR|\n",
            "|2023-07-03|2023-07-07|  4|    1|      0.51|House from Vallad...|  5356245|          43.33|              7.24| Valladolid|      house|           2|Rate Plan 675027|5382071|     3|       1|   fullboard|     EUR|\n",
            "|2023-07-03|2023-07-16| 13|    1|      1.13|Hotel_room from V...|  6371975|           44.5|              6.86|   Valencia| hotel_room|           1|Rate Plan 627375|5284152|     3|       0|    roomonly|     EUR|\n",
            "|2023-07-03|2023-07-08|  5|    1|      1.62|House from Málaga...|  2678115|          37.71|              7.76|     Málaga|      house|           0|Rate Plan 971328|3554815|     3|       0|allinclusive|     EUR|\n",
            "|2023-07-03|2023-07-09|  6|    1|      0.63|House from Vigo 5...|  3936028|           44.2|              6.44|       Vigo|      house|           1|Rate Plan 627394|6051273|     4|       2|allinclusive|     EUR|\n",
            "|2023-07-03|2023-07-08|  5|    1|      1.89|Hotel_room from S...|  7988743|          37.47|              7.68|    Sevilla| hotel_room|           5|Rate Plan 818984|4447009|     4|       0|   fullboard|     EUR|\n",
            "|2023-07-03|2023-07-14| 11|    1|      0.65|Hotel_room from V...|  3292270|          40.25|              6.91| Valladolid| hotel_room|           3|Rate Plan 112875|7931092|     3|       0|    roomonly|     EUR|\n",
            "|2023-07-03|2023-07-06|  3|    1|      0.35|House_room from V...|  3410133|           42.9|              6.53| Valladolid| house_room|           4|Rate Plan 984705|1421904|     1|       2|   breakfast|     EUR|\n",
            "|2023-07-03|2023-07-07|  4|    1|       0.5|Hotel_room from V...|  2073127|          39.64|               7.4| Valladolid| hotel_room|           5|Rate Plan 202477|3446665|     1|       1|    roomonly|     EUR|\n",
            "|2023-07-03|2023-07-12|  9|    1|      1.07|House_room from M...|  3784913|          40.45|               5.8|     Málaga| house_room|           2|Rate Plan 350432|2261843|     1|       0|   fullboard|     EUR|\n",
            "|2023-07-03|2023-07-12|  9|    1|      0.45|Hotel_room from V...|  6830702|          43.04|              7.36| Valladolid| hotel_room|           0|Rate Plan 414235|8363483|     1|       0|    roomonly|     EUR|\n",
            "|2023-07-03|2023-07-04|  1|    1|      0.65|Hotel_room from V...|  3436319|          37.99|              7.07|       Vigo| hotel_room|           0|Rate Plan 338342|2942976|     2|       1|   fullboard|     EUR|\n",
            "|2023-07-03|2023-07-14| 11|    1|       1.3|House from Málaga...|  6164986|          42.81|               7.7|     Málaga|      house|           5|Rate Plan 245096|3267034|     2|       2|    roomonly|     EUR|\n",
            "|2023-07-03|2023-07-05|  2|    1|      1.39|Hotel_room from S...|  5472872|          36.78|              5.29|    Sevilla| hotel_room|           4|Rate Plan 248887|6408064|     2|       1|allinclusive|     EUR|\n",
            "|2023-07-03|2023-07-09|  6|    1|      1.52|Hotel_room from M...|  3480807|          40.74|              6.67|     Málaga| hotel_room|           1|Rate Plan 127492|2387567|     2|       1|   halfboard|     EUR|\n",
            "|2023-07-03|2023-07-07|  4|    1|      1.25|House from Sevill...|  8569801|          36.68|              6.92|    Sevilla|      house|           5|Rate Plan 747620|5109958|     3|       1|   breakfast|     EUR|\n",
            "+----------+----------+---+-----+----------+--------------------+---------+---------------+------------------+-----------+-----------+------------+----------------+-------+------+--------+------------+--------+\n",
            "only showing top 20 rows\n",
            "\n"
          ]
        }
      ]
    },
    {
      "cell_type": "markdown",
      "source": [
        "##Comprobar valores nulos"
      ],
      "metadata": {
        "id": "OWtfq8JGO85g"
      }
    },
    {
      "cell_type": "code",
      "source": [
        "from pyspark.sql.functions import col, month, when, avg, to_date, count, isnan\n",
        "\n",
        "df.select([count(when(col(c).isNull(), c)).alias(c) for c in df.columns]).show()\n",
        "\n"
      ],
      "metadata": {
        "colab": {
          "base_uri": "https://localhost:8080/"
        },
        "id": "FqH6jE5ROF7b",
        "outputId": "c91d7f35-181e-442f-aba7-0ae8e7108ff4"
      },
      "execution_count": 18,
      "outputs": [
        {
          "output_type": "stream",
          "name": "stdout",
          "text": [
            "+--------+---------+---+-----+----------+-----------+---------+---------------+----------------+-----------+-----------+------------+---------+-------+------+--------+---------+--------+\n",
            "|check_in|check_out|los|count|rate_price|entity_name|entity_id|entity_latitude|entity_longitude|entity_city|entity_type|entity_stars|rate_name|rate_id|adults|children|meal_plan|currency|\n",
            "+--------+---------+---+-----+----------+-----------+---------+---------------+----------------+-----------+-----------+------------+---------+-------+------+--------+---------+--------+\n",
            "|       0|        0|  0|    0|         0|          0|        0|              0|               0|          0|          0|           0|        0|      0|     0|       0|        0|       0|\n",
            "+--------+---------+---+-----+----------+-----------+---------+---------------+----------------+-----------+-----------+------------+---------+-------+------+--------+---------+--------+\n",
            "\n"
          ]
        }
      ]
    },
    {
      "cell_type": "code",
      "source": [
        "# Si hay valores nulos en columnas, eliminarlos\n",
        "#df = df.dropna(subset=[\"check_in\", \"check_out\", \"rate_price\", \"entity_city\"])"
      ],
      "metadata": {
        "id": "d4MpkBxb1XRZ"
      },
      "execution_count": null,
      "outputs": []
    },
    {
      "cell_type": "markdown",
      "source": [
        "## Eliminar filas con rate_price negativo o igual a 0\n"
      ],
      "metadata": {
        "id": "jiFB-6_UQGP9"
      }
    },
    {
      "cell_type": "code",
      "source": [
        "df = df.filter((col(\"rate_price\") >= 0))"
      ],
      "metadata": {
        "id": "fa5Ga5KLPJpR"
      },
      "execution_count": 19,
      "outputs": []
    },
    {
      "cell_type": "markdown",
      "source": [
        "## Redondear latitud y longitud a 2 decimales"
      ],
      "metadata": {
        "id": "uk7K6S2rQLtQ"
      }
    },
    {
      "cell_type": "code",
      "source": [
        "from pyspark.sql.functions import round\n",
        "\n",
        "df = df.withColumn(\"entity_latitude\", round(col(\"entity_latitude\"), 2)) \\\n",
        "       .withColumn(\"entity_longitude\", round(col(\"entity_longitude\"), 2))"
      ],
      "metadata": {
        "id": "2dSjZny9PT3P"
      },
      "execution_count": 20,
      "outputs": []
    },
    {
      "cell_type": "markdown",
      "source": [
        "##Comprobar que las estrellas de los hoteles tienen el rango correcto"
      ],
      "metadata": {
        "id": "ZWbF9Tg01fXO"
      }
    },
    {
      "cell_type": "code",
      "source": [
        "df = df.filter((col(\"entity_stars\") >= 0) & (col(\"entity_stars\") <= 5))"
      ],
      "metadata": {
        "id": "8nfzJa20PekW"
      },
      "execution_count": 21,
      "outputs": []
    },
    {
      "cell_type": "code",
      "source": [
        "df.show(truncate=False)"
      ],
      "metadata": {
        "colab": {
          "base_uri": "https://localhost:8080/"
        },
        "id": "UFWpN6n6P-I3",
        "outputId": "e5e5627e-de4a-40c1-e4bc-dc3732bea4b4"
      },
      "execution_count": 22,
      "outputs": [
        {
          "output_type": "stream",
          "name": "stdout",
          "text": [
            "+----------+----------+---+-----+----------+---------------------------------+---------+---------------+----------------+-----------+-----------+------------+----------------+-------+------+--------+------------+--------+\n",
            "|check_in  |check_out |los|count|rate_price|entity_name                      |entity_id|entity_latitude|entity_longitude|entity_city|entity_type|entity_stars|rate_name       |rate_id|adults|children|meal_plan   |currency|\n",
            "+----------+----------+---+-----+----------+---------------------------------+---------+---------------+----------------+-----------+-----------+------------+----------------+-------+------+--------+------------+--------+\n",
            "|2023-07-03|2023-07-17|14 |1    |0.98      |House from Valencia 110813       |4160012  |44.52          |7.87            |Valencia   |house      |2           |Rate Plan 731559|2662305|2     |0       |allinclusive|EUR     |\n",
            "|2023-07-03|2023-07-04|1  |1    |0.56      |Hotel_room from Salamanca 435864 |3496726  |40.8           |6.23            |Salamanca  |hotel_room |4           |Rate Plan 245096|3267034|2     |2       |roomonly    |EUR     |\n",
            "|2023-07-03|2023-07-17|14 |1    |0.7       |House from Segovia 247497        |7074056  |38.24          |5.76            |Segovia    |house      |0           |Rate Plan 414235|8363483|1     |0       |roomonly    |EUR     |\n",
            "|2023-07-03|2023-07-16|13 |1    |0.8       |Hotel_room from Vigo 274714      |2527316  |37.3           |6.56            |Vigo       |hotel_room |2           |Rate Plan 846131|3577014|4     |2       |fullboard   |EUR     |\n",
            "|2023-07-03|2023-07-05|2  |1    |0.39      |House_room from Vigo 825122      |4843093  |42.54          |5.38            |Vigo       |house_room |2           |Rate Plan 953794|4075968|2     |0       |fullboard   |EUR     |\n",
            "|2023-07-03|2023-07-07|4  |1    |0.51      |House from Valladolid 869982     |5356245  |43.33          |7.24            |Valladolid |house      |2           |Rate Plan 675027|5382071|3     |1       |fullboard   |EUR     |\n",
            "|2023-07-03|2023-07-16|13 |1    |1.13      |Hotel_room from Valencia 129066  |6371975  |44.5           |6.86            |Valencia   |hotel_room |1           |Rate Plan 627375|5284152|3     |0       |roomonly    |EUR     |\n",
            "|2023-07-03|2023-07-08|5  |1    |1.62      |House from Málaga 358771         |2678115  |37.71          |7.76            |Málaga     |house      |0           |Rate Plan 971328|3554815|3     |0       |allinclusive|EUR     |\n",
            "|2023-07-03|2023-07-09|6  |1    |0.63      |House from Vigo 508146           |3936028  |44.2           |6.44            |Vigo       |house      |1           |Rate Plan 627394|6051273|4     |2       |allinclusive|EUR     |\n",
            "|2023-07-03|2023-07-08|5  |1    |1.89      |Hotel_room from Sevilla 154460   |7988743  |37.47          |7.68            |Sevilla    |hotel_room |5           |Rate Plan 818984|4447009|4     |0       |fullboard   |EUR     |\n",
            "|2023-07-03|2023-07-14|11 |1    |0.65      |Hotel_room from Valladolid 41029 |3292270  |40.25          |6.91            |Valladolid |hotel_room |3           |Rate Plan 112875|7931092|3     |0       |roomonly    |EUR     |\n",
            "|2023-07-03|2023-07-06|3  |1    |0.35      |House_room from Valladolid 859533|3410133  |42.9           |6.53            |Valladolid |house_room |4           |Rate Plan 984705|1421904|1     |2       |breakfast   |EUR     |\n",
            "|2023-07-03|2023-07-07|4  |1    |0.5       |Hotel_room from Valladolid 661734|2073127  |39.64          |7.4             |Valladolid |hotel_room |5           |Rate Plan 202477|3446665|1     |1       |roomonly    |EUR     |\n",
            "|2023-07-03|2023-07-12|9  |1    |1.07      |House_room from Málaga 418591    |3784913  |40.45          |5.8             |Málaga     |house_room |2           |Rate Plan 350432|2261843|1     |0       |fullboard   |EUR     |\n",
            "|2023-07-03|2023-07-12|9  |1    |0.45      |Hotel_room from Valladolid 516304|6830702  |43.04          |7.36            |Valladolid |hotel_room |0           |Rate Plan 414235|8363483|1     |0       |roomonly    |EUR     |\n",
            "|2023-07-03|2023-07-04|1  |1    |0.65      |Hotel_room from Vigo 166322      |3436319  |37.99          |7.07            |Vigo       |hotel_room |0           |Rate Plan 338342|2942976|2     |1       |fullboard   |EUR     |\n",
            "|2023-07-03|2023-07-14|11 |1    |1.3       |House from Málaga 314366         |6164986  |42.81          |7.7             |Málaga     |house      |5           |Rate Plan 245096|3267034|2     |2       |roomonly    |EUR     |\n",
            "|2023-07-03|2023-07-05|2  |1    |1.39      |Hotel_room from Sevilla 810998   |5472872  |36.78          |5.29            |Sevilla    |hotel_room |4           |Rate Plan 248887|6408064|2     |1       |allinclusive|EUR     |\n",
            "|2023-07-03|2023-07-09|6  |1    |1.52      |Hotel_room from Málaga 94452     |3480807  |40.74          |6.67            |Málaga     |hotel_room |1           |Rate Plan 127492|2387567|2     |1       |halfboard   |EUR     |\n",
            "|2023-07-03|2023-07-07|4  |1    |1.25      |House from Sevilla 969150        |8569801  |36.68          |6.92            |Sevilla    |house      |5           |Rate Plan 747620|5109958|3     |1       |breakfast   |EUR     |\n",
            "+----------+----------+---+-----+----------+---------------------------------+---------+---------------+----------------+-----------+-----------+------------+----------------+-------+------+--------+------------+--------+\n",
            "only showing top 20 rows\n",
            "\n"
          ]
        }
      ]
    },
    {
      "cell_type": "markdown",
      "source": [
        "## Añadir columna de la estación según el día del check in"
      ],
      "metadata": {
        "id": "sVUz1hB4Vs2X"
      }
    },
    {
      "cell_type": "code",
      "source": [
        "from pyspark.sql.functions import col, month, dayofmonth, when\n",
        "\n",
        "# Asignar estación del año basándonos en el mes y el día\n",
        "df = df.withColumn(\"season\",\n",
        "    when(((month(col(\"check_in\")) == 12) & (dayofmonth(col(\"check_in\")) >= 21)) | (month(col(\"check_in\")) == 1) | (month(col(\"check_in\")) == 2) | ((month(col(\"check_in\")) == 3) & (dayofmonth(col(\"check_in\")) <= 19)), \"Winter\")\n",
        "    .when(((month(col(\"check_in\")) == 3) & (dayofmonth(col(\"check_in\")) >= 20)) | (month(col(\"check_in\")) == 4) | (month(col(\"check_in\")) == 5) | ((month(col(\"check_in\")) == 6) & (dayofmonth(col(\"check_in\")) <= 20)), \"Spring\")\n",
        "    .when(((month(col(\"check_in\")) == 6) & (dayofmonth(col(\"check_in\")) >= 21)) | (month(col(\"check_in\")) == 7) | (month(col(\"check_in\")) == 8) | ((month(col(\"check_in\")) == 9) & (dayofmonth(col(\"check_in\")) <= 20)), \"Summer\")\n",
        "    .when(((month(col(\"check_in\")) == 9) & (dayofmonth(col(\"check_in\")) >= 21)) | (month(col(\"check_in\")) == 10) | (month(col(\"check_in\")) == 11) | ((month(col(\"check_in\")) == 12) & (dayofmonth(col(\"check_in\")) <= 20)), \"Autumn\")\n",
        ")"
      ],
      "metadata": {
        "id": "OkKYW-X9Qech"
      },
      "execution_count": 23,
      "outputs": []
    },
    {
      "cell_type": "code",
      "source": [
        "df.show(truncate=False)"
      ],
      "metadata": {
        "colab": {
          "base_uri": "https://localhost:8080/"
        },
        "id": "p_i2-hutQgKn",
        "outputId": "0753cc53-c19a-4c93-c7b7-e0453158fb71"
      },
      "execution_count": 24,
      "outputs": [
        {
          "output_type": "stream",
          "name": "stdout",
          "text": [
            "+----------+----------+---+-----+----------+---------------------------------+---------+---------------+----------------+-----------+-----------+------------+----------------+-------+------+--------+------------+--------+------+\n",
            "|check_in  |check_out |los|count|rate_price|entity_name                      |entity_id|entity_latitude|entity_longitude|entity_city|entity_type|entity_stars|rate_name       |rate_id|adults|children|meal_plan   |currency|season|\n",
            "+----------+----------+---+-----+----------+---------------------------------+---------+---------------+----------------+-----------+-----------+------------+----------------+-------+------+--------+------------+--------+------+\n",
            "|2023-07-03|2023-07-17|14 |1    |0.98      |House from Valencia 110813       |4160012  |44.52          |7.87            |Valencia   |house      |2           |Rate Plan 731559|2662305|2     |0       |allinclusive|EUR     |Summer|\n",
            "|2023-07-03|2023-07-04|1  |1    |0.56      |Hotel_room from Salamanca 435864 |3496726  |40.8           |6.23            |Salamanca  |hotel_room |4           |Rate Plan 245096|3267034|2     |2       |roomonly    |EUR     |Summer|\n",
            "|2023-07-03|2023-07-17|14 |1    |0.7       |House from Segovia 247497        |7074056  |38.24          |5.76            |Segovia    |house      |0           |Rate Plan 414235|8363483|1     |0       |roomonly    |EUR     |Summer|\n",
            "|2023-07-03|2023-07-16|13 |1    |0.8       |Hotel_room from Vigo 274714      |2527316  |37.3           |6.56            |Vigo       |hotel_room |2           |Rate Plan 846131|3577014|4     |2       |fullboard   |EUR     |Summer|\n",
            "|2023-07-03|2023-07-05|2  |1    |0.39      |House_room from Vigo 825122      |4843093  |42.54          |5.38            |Vigo       |house_room |2           |Rate Plan 953794|4075968|2     |0       |fullboard   |EUR     |Summer|\n",
            "|2023-07-03|2023-07-07|4  |1    |0.51      |House from Valladolid 869982     |5356245  |43.33          |7.24            |Valladolid |house      |2           |Rate Plan 675027|5382071|3     |1       |fullboard   |EUR     |Summer|\n",
            "|2023-07-03|2023-07-16|13 |1    |1.13      |Hotel_room from Valencia 129066  |6371975  |44.5           |6.86            |Valencia   |hotel_room |1           |Rate Plan 627375|5284152|3     |0       |roomonly    |EUR     |Summer|\n",
            "|2023-07-03|2023-07-08|5  |1    |1.62      |House from Málaga 358771         |2678115  |37.71          |7.76            |Málaga     |house      |0           |Rate Plan 971328|3554815|3     |0       |allinclusive|EUR     |Summer|\n",
            "|2023-07-03|2023-07-09|6  |1    |0.63      |House from Vigo 508146           |3936028  |44.2           |6.44            |Vigo       |house      |1           |Rate Plan 627394|6051273|4     |2       |allinclusive|EUR     |Summer|\n",
            "|2023-07-03|2023-07-08|5  |1    |1.89      |Hotel_room from Sevilla 154460   |7988743  |37.47          |7.68            |Sevilla    |hotel_room |5           |Rate Plan 818984|4447009|4     |0       |fullboard   |EUR     |Summer|\n",
            "|2023-07-03|2023-07-14|11 |1    |0.65      |Hotel_room from Valladolid 41029 |3292270  |40.25          |6.91            |Valladolid |hotel_room |3           |Rate Plan 112875|7931092|3     |0       |roomonly    |EUR     |Summer|\n",
            "|2023-07-03|2023-07-06|3  |1    |0.35      |House_room from Valladolid 859533|3410133  |42.9           |6.53            |Valladolid |house_room |4           |Rate Plan 984705|1421904|1     |2       |breakfast   |EUR     |Summer|\n",
            "|2023-07-03|2023-07-07|4  |1    |0.5       |Hotel_room from Valladolid 661734|2073127  |39.64          |7.4             |Valladolid |hotel_room |5           |Rate Plan 202477|3446665|1     |1       |roomonly    |EUR     |Summer|\n",
            "|2023-07-03|2023-07-12|9  |1    |1.07      |House_room from Málaga 418591    |3784913  |40.45          |5.8             |Málaga     |house_room |2           |Rate Plan 350432|2261843|1     |0       |fullboard   |EUR     |Summer|\n",
            "|2023-07-03|2023-07-12|9  |1    |0.45      |Hotel_room from Valladolid 516304|6830702  |43.04          |7.36            |Valladolid |hotel_room |0           |Rate Plan 414235|8363483|1     |0       |roomonly    |EUR     |Summer|\n",
            "|2023-07-03|2023-07-04|1  |1    |0.65      |Hotel_room from Vigo 166322      |3436319  |37.99          |7.07            |Vigo       |hotel_room |0           |Rate Plan 338342|2942976|2     |1       |fullboard   |EUR     |Summer|\n",
            "|2023-07-03|2023-07-14|11 |1    |1.3       |House from Málaga 314366         |6164986  |42.81          |7.7             |Málaga     |house      |5           |Rate Plan 245096|3267034|2     |2       |roomonly    |EUR     |Summer|\n",
            "|2023-07-03|2023-07-05|2  |1    |1.39      |Hotel_room from Sevilla 810998   |5472872  |36.78          |5.29            |Sevilla    |hotel_room |4           |Rate Plan 248887|6408064|2     |1       |allinclusive|EUR     |Summer|\n",
            "|2023-07-03|2023-07-09|6  |1    |1.52      |Hotel_room from Málaga 94452     |3480807  |40.74          |6.67            |Málaga     |hotel_room |1           |Rate Plan 127492|2387567|2     |1       |halfboard   |EUR     |Summer|\n",
            "|2023-07-03|2023-07-07|4  |1    |1.25      |House from Sevilla 969150        |8569801  |36.68          |6.92            |Sevilla    |house      |5           |Rate Plan 747620|5109958|3     |1       |breakfast   |EUR     |Summer|\n",
            "+----------+----------+---+-----+----------+---------------------------------+---------+---------------+----------------+-----------+-----------+------------+----------------+-------+------+--------+------------+--------+------+\n",
            "only showing top 20 rows\n",
            "\n"
          ]
        }
      ]
    },
    {
      "cell_type": "markdown",
      "source": [
        "##Agrupar los datos por ciudad y estación y calcular la media de rate_price"
      ],
      "metadata": {
        "id": "j7k6hBlGVxsZ"
      }
    },
    {
      "cell_type": "code",
      "source": [
        "df_grouped = df.groupBy(\"entity_city\", \"season\").agg(avg(\"rate_price\").alias(\"avg_rate_price\"))"
      ],
      "metadata": {
        "id": "rQF4oZSoVi6s"
      },
      "execution_count": 25,
      "outputs": []
    },
    {
      "cell_type": "code",
      "source": [
        "# Convertir el DataFrame de Spark a Pandas para graficar\n",
        "df_pandas = df_grouped.toPandas()\n",
        "\n",
        "# Graficar con seaborn\n",
        "import seaborn as sns\n",
        "import matplotlib.pyplot as plt\n",
        "\n",
        "# Crear la gráfica de barras\n",
        "plt.figure(figsize=(10, 6))\n",
        "sns.barplot(x=\"entity_city\", y=\"avg_rate_price\", hue=\"season\", data=df_pandas)\n",
        "\n",
        "# Configurar la gráfica\n",
        "plt.title(\"Media de Precios por Ciudad y Estación del Año\")\n",
        "plt.xlabel(\"Ciudad\")\n",
        "plt.ylabel(\"Media de Precio\")\n",
        "plt.xticks(rotation=45)\n",
        "plt.tight_layout()\n",
        "\n",
        "# Mostrar la gráfica\n",
        "plt.show()\n"
      ],
      "metadata": {
        "colab": {
          "base_uri": "https://localhost:8080/",
          "height": 607
        },
        "id": "jiiVuv5YUjZg",
        "outputId": "f0c0efb7-01e7-4983-eeda-bf46fc80deb4"
      },
      "execution_count": 26,
      "outputs": [
        {
          "output_type": "display_data",
          "data": {
            "text/plain": [
              "<Figure size 1000x600 with 1 Axes>"
            ],
            "image/png": "[encoded data removed]"
          },
          "metadata": {}
        }
      ]
    }
  ]
}